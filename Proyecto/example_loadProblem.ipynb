{
 "cells": [
  {
   "cell_type": "markdown",
   "id": "ca17e577",
   "metadata": {},
   "source": [
    "#### Load problem from mat-file"
   ]
  },
  {
   "cell_type": "code",
   "execution_count": 2,
   "id": "9d18c686",
   "metadata": {},
   "outputs": [
    {
     "name": "stdout",
     "output_type": "stream",
     "text": [
      "type(A) :  <class 'numpy.ndarray'>\n",
      "(27,)\n",
      "(51,)\n"
     ]
    }
   ],
   "source": [
    "import numpy as np\n",
    "from AW_loadProblem import loadProblem\n",
    "\n",
    "H = loadProblem('lp_afiro.mat')\n",
    "print('type(A) : ', type(H['AE']))\n",
    "print(H['bE'].shape)\n",
    "print(H['c'].shape)\n"
   ]
  },
  {
   "cell_type": "markdown",
   "id": "d727c257",
   "metadata": {},
   "source": [
    "#### A note\n",
    "If you want to keep the sparse structure of A, then you should use the functionalities of\n",
    "`scipy.sparse`, see example below.\n",
    "However, for this project I do not recommend to use sparse matrices, because operations become more complicated.\n"
   ]
  },
  {
   "cell_type": "code",
   "execution_count": 3,
   "id": "2ec29325",
   "metadata": {},
   "outputs": [
    {
     "name": "stdout",
     "output_type": "stream",
     "text": [
      "A  : <class 'scipy.sparse.csc.csc_matrix'> (56, 138)\n",
      "<class 'scipy.sparse.csr.csr_matrix'>\n",
      "Id : <class 'scipy.sparse.csr.csr_matrix'> (138, 138)\n",
      "<class 'scipy.sparse.csr.csr_matrix'> (194, 138)\n",
      "<class 'scipy.sparse.coo.coo_matrix'> (138, 276)\n"
     ]
    }
   ],
   "source": [
    "import scipy.sparse as sparse\n",
    "\n",
    "#? sparse.csr.csr_matrix\n",
    "H = loadProblem('lp_adlittle.mat', useSparse=True)\n",
    "A = H['AE']\n",
    "B = A.tocsr()\n",
    "print('A  :', type(A), A.shape)\n",
    "\n",
    "Id = sparse.eye(A.shape[1]).tocsr()\n",
    "#Id = np.eye(89)\n",
    "print(type(Id))\n",
    "print('Id :', type(Id), Id.shape)\n",
    "\n",
    "#np.vstack( (A, Id))\n",
    "Irow = sparse.vstack( (B, Id))\n",
    "#print(Irow.tocsc()[100:110, :])\n",
    "Icol = sparse.hstack( (Id, Id))\n",
    "\n",
    "#print(type(Id), Id.shape)\n",
    "print(type(Irow), Irow.shape)\n",
    "print(type(Icol), Icol.shape)\n"
   ]
  },
  {
   "cell_type": "code",
   "execution_count": null,
   "id": "24370da8",
   "metadata": {},
   "outputs": [],
   "source": [
    "import numpy as np\n",
    "np.finfo(float).eps"
   ]
  },
  {
   "cell_type": "code",
   "execution_count": null,
   "id": "6fc7d388",
   "metadata": {},
   "outputs": [],
   "source": []
  }
 ],
 "metadata": {
  "jupytext": {
   "formats": "md,ipynb"
  },
  "kernelspec": {
   "display_name": "Python 3 (ipykernel)",
   "language": "python",
   "name": "python3"
  },
  "language_info": {
   "codemirror_mode": {
    "name": "ipython",
    "version": 3
   },
   "file_extension": ".py",
   "mimetype": "text/x-python",
   "name": "python",
   "nbconvert_exporter": "python",
   "pygments_lexer": "ipython3",
   "version": "3.9.5"
  }
 },
 "nbformat": 4,
 "nbformat_minor": 5
}
