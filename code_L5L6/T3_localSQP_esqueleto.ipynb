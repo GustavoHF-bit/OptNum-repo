{
 "cells": [
  {
   "cell_type": "code",
   "execution_count": 1,
   "id": "78698a06",
   "metadata": {},
   "outputs": [],
   "source": [
    "import numpy as np\n",
    "import scipy.linalg as LA"
   ]
  },
  {
   "cell_type": "markdown",
   "id": "9df6375b",
   "metadata": {},
   "source": [
    "### Import (or write): apGrad, apHess, apJacobian  (functions)"
   ]
  },
  {
   "cell_type": "code",
   "execution_count": 2,
   "id": "6cf2f15c",
   "metadata": {},
   "outputs": [
    {
     "name": "stdout",
     "output_type": "stream",
     "text": [
      "Imported: Finite Difference Gradient and Hessian (by AW).\n"
     ]
    }
   ],
   "source": [
    "from AW_FD_esqueleto import apGrad, apHess, apJacobian\n"
   ]
  },
  {
   "cell_type": "code",
   "execution_count": 3,
   "id": "0bfffbb7",
   "metadata": {},
   "outputs": [
    {
     "name": "stdout",
     "output_type": "stream",
     "text": [
      "grad:\n",
      " [4. 5.]\n",
      "hess:\n",
      " [[1. 0.]\n",
      " [0. 1.]]\n",
      "jaco:\n",
      "  [[4. 5.]]\n"
     ]
    }
   ],
   "source": [
    "# TEST functionality:\n",
    "f = lambda x:  np.array([0.5*(x[0]+3)**2 + 0.5*(x[1]+3)**2])\n",
    "#f = lambda x:  0.5*(x[0]+3)**2 + 0.5*(x[1]+3)**2\n",
    "x = np.array([1,2])\n",
    "print('grad:\\n', apGrad(f, x) )\n",
    "print('hess:\\n', apHess(f, x) )\n",
    "print('jaco:\\n ', apJacobian(f, x) )"
   ]
  },
  {
   "cell_type": "markdown",
   "id": "0ad8311e",
   "metadata": {},
   "source": [
    "### Implement: method SQP local"
   ]
  },
  {
   "cell_type": "code",
   "execution_count": 27,
   "id": "5636428a",
   "metadata": {},
   "outputs": [],
   "source": [
    "def mSQPlocal(f, h, x0, lam0, tol,itmax=100):\n",
    "    \"\"\"Local pure Newton with pure hessian of Lagrangian\"\"\"\n",
    "    # TODO: write this function\n",
    "    x=x0.copy()\n",
    "    lam=lam0.copy()\n",
    "    m=len(lam)\n",
    "    n=len(x)\n",
    "    L = lambda x: f(x)+lam.T@h(x)\n",
    "    #gK=apGrad(f,x)\n",
    "    #A=apJacobian(f,x)\n",
    "    hk=h(x)\n",
    "    assert(len(hk)==len(lam)),'lambda incompatible con el número de restricciones'\n",
    "    assert(len(hk)==1),'redefine function h'\n",
    "    #F(x,Lam)=gk+A.TLam; hk\n",
    "    for k in range(itmax):\n",
    "        gk=apGrad(f,x)\n",
    "        A=apJacobian(f,x)\n",
    "        hk=h(x)\n",
    "        if all(abs(gk+A.T@lam)<=tol*(abs(gk)+1)) and all(abs(hk)<=tol):\n",
    "            print('Happy initeration:',k)\n",
    "            break\n",
    "        HL=apHess(L,x)\n",
    "        row1=np.hstack((HL,A.T))\n",
    "        row2=np.hstack((A,np.zeros((m,m))))\n",
    "        mat=np.vstack((row1,row2))\n",
    "        \n",
    "        rhs=np.hstack((-gk,-hk))\n",
    "        delta=LA.solve(mat,rhs)\n",
    "        lam=delta[n:]\n",
    "        dx=delta[:n]\n",
    "        x+=dx\n",
    "        \n",
    "        \n",
    "    return x, lam\n",
    "\n"
   ]
  },
  {
   "cell_type": "markdown",
   "id": "2d1558f9",
   "metadata": {},
   "source": [
    "### Test: local SQP method"
   ]
  },
  {
   "cell_type": "code",
   "execution_count": 28,
   "id": "06171da6",
   "metadata": {},
   "outputs": [
    {
     "name": "stdout",
     "output_type": "stream",
     "text": [
      "Happy initeration: 33\n"
     ]
    },
    {
     "data": {
      "text/plain": [
       "(array([1.3346346 , 0.46770769]), array([-1.]))"
      ]
     },
     "execution_count": 28,
     "metadata": {},
     "output_type": "execute_result"
    }
   ],
   "source": [
    "f = lambda x:  np.array([0.5*(x[0]+3)**2 + 0.5*(x[1]+3)**2])\n",
    "h = lambda x:  np.array([x[0]**2 + x[1]**2 - 2])\n",
    "\n",
    "#x0   = np.array([-2,-0])\n",
    "x0   = np.array([2.0,1.0])\n",
    "lam0 = np.array([0]);\n",
    "tol = 1e-9;\n",
    "\n",
    "xk, lamk = mSQPlocal( f, h, x0, lam0, tol,itmax=100 )\n",
    "xk, lamk"
   ]
  },
  {
   "cell_type": "code",
   "execution_count": null,
   "id": "e0010b13",
   "metadata": {},
   "outputs": [],
   "source": []
  }
 ],
 "metadata": {
  "jupytext": {
   "formats": "md,ipynb",
   "text_representation": {
    "extension": ".md",
    "format_name": "markdown",
    "format_version": "1.3",
    "jupytext_version": "1.13.5"
   }
  },
  "kernelspec": {
   "display_name": "Python 3",
   "language": "python",
   "name": "python3"
  },
  "language_info": {
   "codemirror_mode": {
    "name": "ipython",
    "version": 3
   },
   "file_extension": ".py",
   "mimetype": "text/x-python",
   "name": "python",
   "nbconvert_exporter": "python",
   "pygments_lexer": "ipython3",
   "version": "3.8.8"
  }
 },
 "nbformat": 4,
 "nbformat_minor": 5
}
