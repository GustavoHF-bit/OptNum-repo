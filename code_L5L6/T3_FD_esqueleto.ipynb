{
 "cells": [
  {
   "cell_type": "code",
   "execution_count": 32,
   "id": "2a5cf29f",
   "metadata": {},
   "outputs": [],
   "source": [
    "import numpy as np\n",
    "import scipy.linalg as LA\n",
    "\n",
    "#from AW_FD import apGrad, apHess, apJacobian\n",
    "def apGrad( f, x ):\n",
    "    assert( type(x) is np.ndarray ), 'x debe ser numpy.array'\n",
    "    \n",
    "    if len(x.shape)==2:\n",
    "        x=x[:,0]\n",
    "    \n",
    "    n=len(x)\n",
    "    #Id=np.eye(n)\n",
    "    #np.finfo(float).eps\n",
    "    hs=np.diag((np.finfo(float).eps**(1.0/3))*(abs(x)+1))\n",
    "    \n",
    "    g=np.zeros((n,1))\n",
    "    for i in range(n):\n",
    "        g[i]=0.5*(f(x+hs[:,i])-f(x-hs[:,i]))/hs[i,i]\n",
    "    return g\n",
    "\n",
    "\n",
    "def apJacobian( f, x ):\n",
    "    \"\"\"f: Rn->Rm\"\"\"\n",
    "    assert( type(x) is np.ndarray ), 'x debe ser numpy.array'\n",
    "    \n",
    "    if len(x.shape)==2:\n",
    "        x=x[:,0]\n",
    "    \n",
    "    n=len(x)\n",
    "    m=len(f(x))\n",
    "    #Id=np.eye(n)\n",
    "    #np.finfo(float).eps\n",
    "    hs=np.diag((np.finfo(float).eps**(1.0/3))*(abs(x)+1))\n",
    "    \n",
    "    jac=np.zeros((m,n))\n",
    "    for j in range(n):\n",
    "        jac[:,j]=0.5*(f(x+hs[:,j])-f(x-hs[:,j]))/hs[j,j]\n",
    "    \n",
    "    \n",
    "        \n",
    "    return jac\n",
    "\n",
    "\n",
    "def apHess( f, x ):\n",
    "    assert( type(x) is np.ndarray ), 'x debe ser numpy.array'\n",
    "     \n",
    "    if len(x.shape)==2:\n",
    "        x=x[:,0]\n",
    "    \n",
    "    n=len(x)\n",
    "    #Id=np.eye(n)\n",
    "    #np.finfo(float).eps\n",
    "    hs=np.diag((np.finfo(float).eps**(1.0/4))*(abs(x)+1))\n",
    "    \n",
    "    Hf=np.zeros((n,n))\n",
    "    for i in range(n):\n",
    "        for j in range(n):\n",
    "            Hf[i,j]=0.25*(f(x+hs[:,i]+hs[:,j])\\\n",
    "                          -f(x-hs[:,i]+hs[:,j])\\\n",
    "                          -f(x+hs[:,i]-hs[:,j])\\\n",
    "                          +f(x-hs[:,i]-hs[:,j]))/(hs[i,i]*hs[j,j])\n",
    "    return Hf\n",
    "\n"
   ]
  },
  {
   "cell_type": "code",
   "execution_count": 18,
   "id": "bd77fe82",
   "metadata": {},
   "outputs": [
    {
     "data": {
      "text/plain": [
       "(1, 5)"
      ]
     },
     "execution_count": 18,
     "metadata": {},
     "output_type": "execute_result"
    }
   ],
   "source": [
    "x=np.random.rand(5)\n",
    "y=np.ones((5,1)).T\n",
    "np.shape(y)\n",
    "#y+np.diag((np.finfo(float).eps**(1.0/3))*(abs(x)+1))[:,0]"
   ]
  },
  {
   "cell_type": "markdown",
   "id": "158f2b9a",
   "metadata": {
    "tags": []
   },
   "source": [
    "### Test: Gradient + Hessian"
   ]
  },
  {
   "cell_type": "code",
   "execution_count": 21,
   "id": "6ba2c8f7",
   "metadata": {},
   "outputs": [
    {
     "data": {
      "text/plain": [
       "3"
      ]
     },
     "execution_count": 21,
     "metadata": {},
     "output_type": "execute_result"
    }
   ],
   "source": [
    "#np.finfo(float).eps\n",
    "v = np.array([[1,2,3]]).T\n",
    "max(v.shape)"
   ]
  },
  {
   "cell_type": "code",
   "execution_count": 28,
   "id": "72e99a57",
   "metadata": {},
   "outputs": [],
   "source": [
    "A = LA.pascal(5).astype(float)\n",
    "b = -np.ones(5)\n",
    "f  = lambda x:  0.5*np.dot(x, A@x) + np.dot(b,x)\n",
    "Df = lambda x:  (0.5*(A+A.T)@x + b)[:,np.newaxis]\n"
   ]
  },
  {
   "cell_type": "code",
   "execution_count": 31,
   "id": "973e144e",
   "metadata": {},
   "outputs": [
    {
     "name": "stdout",
     "output_type": "stream",
     "text": [
      "[[ 1.  1.  1.  1.  1.]\n",
      " [ 1.  2.  3.  4.  5.]\n",
      " [ 1.  3.  6. 10. 15.]\n",
      " [ 1.  4. 10. 20. 35.]\n",
      " [ 1.  5. 15. 35. 70.]]\n",
      "gradient (rel. error):  [[2.10354045e-10]\n",
      " [1.32755910e-10]\n",
      " [3.90639343e-11]\n",
      " [3.92934193e-12]\n",
      " [2.34230977e-13]]\n",
      "[[0. 0. 0. 0. 0.]\n",
      " [0. 0. 0. 0. 0.]\n",
      " [0. 0. 0. 0. 0.]\n",
      " [0. 0. 0. 0. 0.]\n",
      " [0. 0. 0. 0. 0.]]\n"
     ]
    }
   ],
   "source": [
    "# prueba\n",
    "#x = np.array([1,0,0,0])\n",
    "x = 5*np.ones(5)\n",
    "g = apGrad(f, x)\n",
    "H = apHess(f, x)\n",
    "\n",
    "#print(A)\n",
    "\n",
    "gexa = Df(x)\n",
    "Hexa = A\n",
    "print('gradient (rel. error): ', (g-gexa)/(abs(gexa)+1) )\n",
    "print(H-Hexa)\n"
   ]
  },
  {
   "cell_type": "markdown",
   "id": "ea1ab7c8",
   "metadata": {
    "tags": []
   },
   "source": [
    "### Test: Jacobian"
   ]
  },
  {
   "cell_type": "code",
   "execution_count": 33,
   "id": "cd57a76a",
   "metadata": {},
   "outputs": [
    {
     "name": "stdout",
     "output_type": "stream",
     "text": [
      "[[ 1.  1.  1.  1.]\n",
      " [ 1.  2.  3.  4.]\n",
      " [ 1.  3.  6. 10.]]\n"
     ]
    },
    {
     "data": {
      "text/plain": [
       "array([[ 1.,  1.,  1.,  1.],\n",
       "       [ 1.,  2.,  3.,  4.],\n",
       "       [ 1.,  3.,  6., 10.]])"
      ]
     },
     "execution_count": 33,
     "metadata": {},
     "output_type": "execute_result"
    }
   ],
   "source": [
    "A = LA.pascal(4).astype(float)[0:3,:]\n",
    "h = lambda x:  A@x\n",
    "\n",
    "x0 = np.ones(4)\n",
    "print(A)\n",
    "apJacobian(h, x0)\n"
   ]
  },
  {
   "cell_type": "code",
   "execution_count": null,
   "id": "ce974b8b",
   "metadata": {},
   "outputs": [],
   "source": []
  }
 ],
 "metadata": {
  "jupytext": {
   "formats": "md,ipynb",
   "text_representation": {
    "extension": ".md",
    "format_name": "markdown",
    "format_version": "1.3",
    "jupytext_version": "1.13.5"
   }
  },
  "kernelspec": {
   "display_name": "Python 3",
   "language": "python",
   "name": "python3"
  },
  "language_info": {
   "codemirror_mode": {
    "name": "ipython",
    "version": 3
   },
   "file_extension": ".py",
   "mimetype": "text/x-python",
   "name": "python",
   "nbconvert_exporter": "python",
   "pygments_lexer": "ipython3",
   "version": "3.8.8"
  }
 },
 "nbformat": 4,
 "nbformat_minor": 5
}
