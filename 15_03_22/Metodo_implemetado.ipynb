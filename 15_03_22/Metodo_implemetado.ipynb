{
 "cells": [
  {
   "cell_type": "code",
   "execution_count": null,
   "metadata": {},
   "outputs": [],
   "source": [
    "import numpy as np\n",
    "import numpy.testing as test\n",
    "import scipy.linalg as LA\n",
    "#"
   ]
  },
  {
   "cell_type": "code",
   "execution_count": null,
   "metadata": {},
   "outputs": [],
   "source": [
    "def getmat(G, A,y,mu):\n",
    "    \"\"\"requires: G, A,y,mu\"\"\"\n",
    "    assert(len(y.shape)==1),\"require 1d arrays\"\n",
    "    m,n=A.shape\n",
    "    #cero1=np.zeros((n,m))\n",
    "    row1=np.hstack((G,np.zeros((n,m)),A.T))\n",
    "    row2=np.hstack((A,np.eye(m),np.zeros((m,m))))\n",
    "    row3=np.hstack((np.zeros((m,n)),np.diag(mu),np.diag(y)))\n",
    "\n",
    "    mat=np.vstack((row1,row2,row3))\n",
    "    return mat\n"
   ]
  },
  {
   "cell_type": "code",
   "execution_count": null,
   "metadata": {},
   "outputs": [],
   "source": [
    "A=np.ones((2,3))\n",
    "G=np.eye(3)\n",
    "y=2*np.ones(2)\n",
    "mu=3*np.ones(2)\n",
    "\n",
    "getmat(G,A,y,mu)"
   ]
  },
  {
   "cell_type": "code",
   "execution_count": null,
   "metadata": {},
   "outputs": [],
   "source": [
    "def F(x,y,mu,prob):\n",
    "    \"\"\"requires: G, A,b,c\"\"\"\n",
    "    G,A,b,c=prob[\"G\"],prob[\"A\"],prob[\"b\"],prob[\"c\"]\n",
    "    assert(len(x.shape)==1),\"requires 1d arrays\"\n",
    "\n",
    "    row1=G@x+A.T@mu+c\n",
    "    row2=A@x+y-b\n",
    "    row3=y*mu\n",
    "\n",
    "    Fval=np.hstack((row1,row2,row3))\n",
    "\n",
    "    return Fval\n",
    "    "
   ]
  },
  {
   "cell_type": "code",
   "execution_count": null,
   "metadata": {},
   "outputs": [],
   "source": [
    "row1=np.ones(4)\n",
    "row2=np.ones(3)\n",
    "row3=np.ones(3)\n",
    "np.hstack((row1,row2,row3))"
   ]
  },
  {
   "cell_type": "code",
   "execution_count": null,
   "metadata": {},
   "outputs": [],
   "source": [
    "def recorte(v,dv):\n",
    "    #use mask\n",
    "    #vi+alpha+dvi>=0\n",
    "    mask=dv<0\n",
    "    if any(mask):\n",
    "        alpha=1\n",
    "        for i in range(len(v)):\n",
    "            if mask[i]:\n",
    "                alpha=min(alpha,-v[i]/dv[i])\n",
    "    else:\n",
    "        alpha=1\n",
    "    \n",
    "    return alpha"
   ]
  },
  {
   "cell_type": "code",
   "execution_count": null,
   "metadata": {},
   "outputs": [],
   "source": [
    "#Prueba recorte\n",
    "v=np.random.rand(5)\n",
    "dv=np.random.randn(5)\n",
    "print(v,dv)\n",
    "alpha=recorte(v,dv)\n",
    "v+0.99*alpha*dv"
   ]
  },
  {
   "cell_type": "code",
   "execution_count": null,
   "metadata": {},
   "outputs": [],
   "source": [
    "def mNewton(x0,y0,mu0,prob,tol=1e-6,itmax=400):\n",
    "    x,y,mu=x0.copy(),y0.copy(),mu0.copy()\n",
    "    Fk=F(x,y,mu,prob)\n",
    "    n,m=len(x),len(y)\n",
    "    sigma=0.1\n",
    "    for i in range(itmax):\n",
    "        if LA.norm(Fk,np.inf)<= tol:\n",
    "            break   \n",
    "        mat=getmat(G, A,y,mu)\n",
    "        Mk=y.T@mu/m\n",
    "        vec=np.hstack((np.zeros(n+m),sigma*Mk*np.ones(m)))\n",
    "\n",
    "        deltas=LA.solve(mat,-Fk+vec)\n",
    "        dx=deltas[:n]\n",
    "        dy=deltas[n:n+m]\n",
    "        dmu=deltas[n+m:]\n",
    "        assert(len(dy)== m),\"lenght of y wrong\"\n",
    "        alphay = recorte(y,dy)\n",
    "        alphamu = recorte(mu,dmu)\n",
    "        alpha = min(alphay,alphamu)\n",
    "        x+=alpha*dx\n",
    "        y+=alpha*dy\n",
    "        mu+=alpha*dmu\n",
    "\n",
    "    return (x,y,mu)\n",
    "        \n",
    "\n",
    "\n",
    "   "
   ]
  }
 ],
 "metadata": {
  "interpreter": {
   "hash": "75791ef9d80f73adc793b5c084506c80f241c43db5dfd10984cec034ff02082a"
  },
  "kernelspec": {
   "display_name": "Python 3.10.2 64-bit (windows store)",
   "language": "python",
   "name": "python3"
  },
  "language_info": {
   "codemirror_mode": {
    "name": "ipython",
    "version": 3
   },
   "file_extension": ".py",
   "mimetype": "text/x-python",
   "name": "python",
   "nbconvert_exporter": "python",
   "pygments_lexer": "ipython3",
   "version": "3.10.2"
  },
  "orig_nbformat": 4
 },
 "nbformat": 4,
 "nbformat_minor": 2
}
